{
 "cells": [
  {
   "cell_type": "markdown",
   "metadata": {},
   "source": [
    "# Principal Component Analysis (PCA) \n",
    "\n",
    "~~~\n",
    "Extracción de Características en Imágenes.\n",
    "Master en Ciencia de Datos y Arquitectura de los Computadores.\n",
    "Universidad de Granada.\n",
    "\n",
    "\n",
    "Fernando Pérez Bueno - fpb@ugr.es\n",
    "Rafael Molina Soriano - rms@decsai.ugr.es\n",
    "~~~\n",
    "\n",
    "Vamos a utilizar el análisis de componentes principales sobre una base de datos de caras para reducir la dimensionalidad de cada cara extrayendo un conjunto de variables latentes. Estas variables latentes podrían, con posterioridad, utilizarse, por ejemplo, en problemas de clasificación siempre que los errores de reconstrucción de las caras usando las variables latentes fuese pequeño. También podrían usarse en problemas de detección de anomalías.\n",
    "\n",
    "La base de datos ERRDfaces.mat contiene una base de datos de caras almacenada por filas en la matriz `X`. Cada fila corresponde a una cara de 32x32=1024 píxeles niveles de gris. El número de ejemplos es N_T=5000."
   ]
  },
  {
   "cell_type": "markdown",
   "metadata": {},
   "source": [
    "Comenzamos importanto las librerías que vamos a utilizar en el desarrollo de la práctica."
   ]
  },
  {
   "cell_type": "code",
   "execution_count": 1,
   "metadata": {},
   "outputs": [],
   "source": [
    "import numpy as np\n",
    "from scipy.io import loadmat\n",
    "import matplotlib.pyplot as plt\n",
    "import math"
   ]
  },
  {
   "cell_type": "markdown",
   "metadata": {},
   "source": [
    "Ahora modificaremos el camino donde están nuestros datos y los leemos. Observa la estructura que contiene los datos. Lee la documentación sobre la función `loadmat`."
   ]
  },
  {
   "cell_type": "code",
   "execution_count": 2,
   "metadata": {},
   "outputs": [
    {
     "name": "stdout",
     "output_type": "stream",
     "text": [
      "<class 'dict'>\n"
     ]
    }
   ],
   "source": [
    "path='/work/ECI_master/Data/'\n",
    "\n",
    "dict_data = loadmat(path+'ERRDfaces_2021.mat')\n",
    "print(dict)"
   ]
  },
  {
   "cell_type": "markdown",
   "metadata": {},
   "source": [
    "Como ves, los datos están almacenados en una estructura diccionario. Observa como extraemos nuestros datos usando la llave `X`. Vemos además cual es el tamaño de la base de datos"
   ]
  },
  {
   "cell_type": "code",
   "execution_count": 3,
   "metadata": {},
   "outputs": [
    {
     "data": {
      "text/plain": [
       "(5000, 1024)"
      ]
     },
     "execution_count": 3,
     "metadata": {},
     "output_type": "execute_result"
    }
   ],
   "source": [
    "data= dict_data['X']\n",
    "data.shape"
   ]
  },
  {
   "cell_type": "markdown",
   "metadata": {},
   "source": [
    "Usaremos las 4.500 primeras caras como ejemplos de entrenamiento y las restantes 500 como test. El conjunto de test nos servirá para probar que PCA representa suficientemente bien la información como para aplicarlo a datos que no ha visto.\n",
    "\n",
    "Dependiendo del problema podríamos usar todas las muestras como conjunto de entrenamiento. Piensa en un conjunto, llamado de calibración, para la detección, por ejemplo, de anomalías en el conjunto de imagenes.\n",
    "\n",
    "<br>\n",
    "<div class=\"alert alert-block alert-info\">\n",
    "<b> Completa el código para que la variable X siguiente contenga las 4500 primeras caras de data y test el resto </b>\n",
    "</div>"
   ]
  },
  {
   "cell_type": "code",
   "execution_count": null,
   "metadata": {},
   "outputs": [],
   "source": [
    "N_tr=4500\n",
    "X = \n",
    "test ="
   ]
  },
  {
   "cell_type": "markdown",
   "metadata": {},
   "source": [
    "Las caras están almacenadas como un vector de rasgos, donde cada imagen es una única fila. \n",
    "\n",
    "<div class=\"alert alert-block alert-info\">\n",
    "<b>Redimensiona, es decir, pasa de un vector con 1024 componentes a una matriz 32x32, y muestra las 5 primeras caras del dataset. </b>\n",
    "\n",
    "Pueden resultarte utiles las funciones np.reshape y plt.imshow. Como observaras deberás probablemente trasponer la matriz que contiene la cara \n",
    "</div>"
   ]
  },
  {
   "cell_type": "code",
   "execution_count": null,
   "metadata": {},
   "outputs": [],
   "source": [
    "n_caras=5\n",
    "\n",
    "plt.figure(figsize=(15,8))\n",
    "\n",
    "#Introduce aquí tu código\n",
    "\n",
    "\n",
    "\n",
    "\n",
    "\n"
   ]
  },
  {
   "cell_type": "markdown",
   "metadata": {},
   "source": [
    "# Normalización de los datos\n",
    "\n",
    "Para trabajar con modelos como PCA, es necesario normalizar los datos. De otro modo, las variables con mayor rango y variación pueden ocultar la importancia de las restantes. \n",
    "\n",
    "<div class=\"alert alert-block alert-info\">\n",
    "<b> Usando la clase StandardScaler de sklearn normaliza los datos de entrenamiento, de forma que cada rasgo (de los 1024) tenga media cero. No realices el escalado de la varianza a uno. Los rasgos normalizados deberás almacenarlos en la variable X_norm.</b>\n",
    "</div>\n",
    "\n",
    "Ten en cuenta que más tarde tendrás que aplicar la misma normalización a los datos de test."
   ]
  },
  {
   "cell_type": "code",
   "execution_count": null,
   "metadata": {},
   "outputs": [],
   "source": [
    "from sklearn.preprocessing import StandardScaler\n",
    "\n",
    "# Introduce aquí tu código para normalizar los datos. Introduce los datos normalizados en una variable de nombre X_norm\n",
    "\n",
    "X_norm =\n",
    "\n",
    "\n",
    "\n"
   ]
  },
  {
   "cell_type": "markdown",
   "metadata": {},
   "source": [
    "<div class=\"alert alert-block alert-info\">\n",
    "<b>Escribe código, lo más eficiente posible, para comprobar que las columnas de rasgos tienen media cero.</b>\n",
    "</div>"
   ]
  },
  {
   "cell_type": "code",
   "execution_count": null,
   "metadata": {},
   "outputs": [],
   "source": [
    "# Introduce aquí tu código\n",
    "\n",
    "\n"
   ]
  },
  {
   "cell_type": "markdown",
   "metadata": {},
   "source": [
    "# Cálculo de las PCAs \n",
    "\n",
    "Una vez que has normalizado los datos. Utilizaremos X_norm para calcular las componentes principales. Aunque existe una función implementada en el paquete sklearn nosotros no la utilizaremos para comprender en profundidad el funcionamiento de PCAs. No se considera válido para el desarrollo de la práctica el uso de implementaciones de PCA en sklearn o cualquier otra libreria.\n",
    "\n",
    "<div class=\"alert alert-block alert-info\">\n",
    "<b> Utiliza la descomposición por valores sigulares sobre X_norm o X_norm traspuesta usando la función np.linalg.svd() y de ahí saca los autovectores y con los valores singulares calcula los autovalores. Alternativamente, puedes calcular los autovectores y autovalores de la matriz de covarianza muestral (mira su definición más abajo) utilizando la función np.linalg.eig(). Tal vez sería bueno que lo hicieras con los métodos y comprobases que obtienes los mismos autovalores y autovectores.</b>\n",
    "</div>\n",
    "\n",
    "Recuerda que dada X_norm su matriz de covarianza muestral es\n",
    "\\begin{equation}\n",
    "S=X_\\mbox{norm}^TX_\\mbox{norm}/N_\\mbox{tr}\n",
    "\\end{equation}"
   ]
  },
  {
   "cell_type": "code",
   "execution_count": null,
   "metadata": {},
   "outputs": [],
   "source": [
    "#Introduce aqui tu codigo \n",
    "\n",
    "\n",
    "autovalores=\n",
    "\n",
    "# Introduce en W los vectores que definen la transformación de PCA\n",
    "W="
   ]
  },
  {
   "cell_type": "markdown",
   "metadata": {},
   "source": [
    "# Número de componentes a utilizar\n",
    "\n",
    "Vamos ahora a determinar cuantas componentes vamos a utilizar en nuestro analisis. Cada componente adicional explica parte de la varianza de nuestros datos. Queremos encontrar cuantas componentes son necesarias para representar bien nuestros datos. \n",
    "\n",
    "\n",
    "Usando los autovalores que hemos obtenido, podemos observar que cantidad de información aporta cada una de las componentes. Las dos gráficas a continuación muestran la información de dos formas diferentes."
   ]
  },
  {
   "cell_type": "code",
   "execution_count": 22,
   "metadata": {},
   "outputs": [
    {
     "data": {
      "text/plain": [
       "(<BarContainer object of 1024 artists>,\n",
       " Text(0.5,1,'Varianza explicada por cada componente'))"
      ]
     },
     "execution_count": 22,
     "metadata": {},
     "output_type": "execute_result"
    },
    {
     "data": {
      "image/png": "[encoded data removed]",
      "text/plain": [
       "<Figure size 1080x720 with 2 Axes>"
      ]
     },
     "metadata": {
      "needs_background": "light"
     },
     "output_type": "display_data"
    }
   ],
   "source": [
    "import matplotlib.pyplot as plt\n",
    "%matplotlib inline\n",
    "\n",
    "#Hacemos uso de la suma acumulada de los autovalores para ver la varianza acumulada\n",
    "cumsum=np.cumsum(autovalores)\n",
    "plt.figure(figsize=(15,10))\n",
    "plt.subplot(2,1,1)\n",
    "plt.plot(cumsum/cumsum[-1]),plt.title('Varianza acumulada')\n",
    "plt.subplot(2,1,2)\n",
    "#El aporte de cada autovalor a la suma total, nos muestra la varianza explicada por cada componente\n",
    "plt.bar(range(autovalores.shape[0]),autovalores/np.sum(autovalores)),plt.title('Varianza explicada por cada componente')"
   ]
  },
  {
   "cell_type": "markdown",
   "metadata": {},
   "source": [
    "Aunque podemos fijar el número de componentes manualmente tras estudiar los datos, es bueno que pienses como determinarías automáticamente el número de componentes a utilizar.\n",
    "\n",
    "<div class=\"alert alert-block alert-info\">\n",
    "<b> Escribe en el cuadro siguiente qué harías para determinar cual sería un buen número de componentes. (No es necesario que lo implementes) Justifica tu respuesta.</b>\n",
    "</div>"
   ]
  },
  {
   "cell_type": "markdown",
   "metadata": {},
   "source": [
    "Tu respuesta:\n",
    "\n",
    "..."
   ]
  },
  {
   "cell_type": "markdown",
   "metadata": {},
   "source": [
    "# Visualización de las autocaras\n",
    "\n",
    "En el caso de las caras, se puede apreciar muy bien la información que captura cada una de las componentes principales visualizando las llamadas autocaras que no son más que los autovectores. Cada uno de los autovectores que hemos calculado, representa elementos clave de una cara que pueden utilizarse para componer la imagen final.\n",
    "\n",
    "<div class=\"alert alert-block alert-info\">\n",
    " <b>Igual que hiciste con las imágenes, escribe aquí código que permita visualizar los primeros 5 autovectores en forma de imagen. Es decir, los 5 autovectores asociados a los 5 autovalores mayores. Trendras que redimensionar los vectores para darles formato de imagen.<b>\n",
    "</div>"
   ]
  },
  {
   "cell_type": "code",
   "execution_count": null,
   "metadata": {},
   "outputs": [],
   "source": [
    "#Introduce aquí tu código para representar las 5 primeras autocaras\n",
    "\n",
    "\n"
   ]
  },
  {
   "cell_type": "markdown",
   "metadata": {},
   "source": [
    "<div class=\"alert alert-block alert-info\">\n",
    " <b>Escribe aquí el código que permita visulizar los cinco últimos 5 autovectores en forma de imagen. Es decir, los 5 autovectores asociados a los 5 menores autovalores.</b>\n",
    "</div>"
   ]
  },
  {
   "cell_type": "code",
   "execution_count": null,
   "metadata": {},
   "outputs": [],
   "source": [
    "#Introduce aquí tu código para representar las 5 últimas\n",
    "\n",
    "\n"
   ]
  },
  {
   "cell_type": "markdown",
   "metadata": {},
   "source": [
    "¿Por qué son tan diferentes? \n",
    "\n",
    "<div class=\"alert alert-block alert-info\">\n",
    "    <b>Escribe tu respuesta en la celda siguiente</b>\n",
    "</div>"
   ]
  },
  {
   "cell_type": "markdown",
   "metadata": {},
   "source": [
    "Tu respuesta:\n",
    "\n",
    "..."
   ]
  },
  {
   "cell_type": "markdown",
   "metadata": {},
   "source": [
    "# Cálculo de las componentes principales de los datos\n",
    "\n",
    "Hasta ahora hemos obtenido los vectores (autovectores o autocaras) que definen el subespacio donde vamos a proyectar los datos, mira la celda de código debajo de la definición de la matriz de covarianza muestral,  y hemos visto que cantidad de varianza explica cada uno de ellos. \n",
    "\n",
    "Vamos a fijar el número de autocaras a 250, es decir n_componentes=250.\n",
    "\n",
    "<div class=\"alert alert-block alert-info\">\n",
    "<b> Extrae de W los n_componentes autovectores asociados a los n_componentes mayores autovalores y almacénalos en Wd. \n",
    "    \n",
    "A continuación obtén el valor de las componentes principales (variables latentes) de nuestros datos y almacénalos en Z. Observa que lo que estamos haciendo es proyectar nuestros datos originales X_norm en el espacio definido por Wd.</b>\n",
    "</div>"
   ]
  },
  {
   "cell_type": "code",
   "execution_count": null,
   "metadata": {},
   "outputs": [],
   "source": [
    "n_componentes=250\n",
    "\n",
    "# Wd contendrá los autovectores correspondientes a las n_componentes principales\n",
    "\n",
    "Wd=\n",
    "\n",
    "# Z contendrá las proyecciones de nuestros datos en el espacio latente\n",
    "\n",
    "Z=\n",
    "\n",
    "print(Z.shape)"
   ]
  },
  {
   "cell_type": "markdown",
   "metadata": {},
   "source": [
    "# Visualización de las primeras componentes\n",
    "\n",
    "\n",
    "Podemos visualizar la primera y la segunda componentes para ver que información nos aportan sobre nuestros datos. \n",
    "\n",
    "<div class=\"alert alert-block alert-info\">\n",
    "<b>Crea dos gráficas separadas. Una que muestre solo la primera componente (variable latente) y otra que incluya las dos primeras (variables latentes) de todo el conjunto de entrenamiento.</b>\n",
    "</div>"
   ]
  },
  {
   "cell_type": "code",
   "execution_count": null,
   "metadata": {},
   "outputs": [],
   "source": [
    "# Incluye aquí el código de la creación de las gráficas\n",
    "\n",
    "\n",
    "\n"
   ]
  },
  {
   "cell_type": "markdown",
   "metadata": {},
   "source": [
    "<div class=\"alert alert-block alert-info\">\n",
    "    <b> Comenta en la siguiente celda los resultados obtenidos</b>\n",
    "</div>"
   ]
  },
  {
   "cell_type": "markdown",
   "metadata": {},
   "source": [
    "Tu respuesta:\n",
    "\n",
    "..."
   ]
  },
  {
   "cell_type": "markdown",
   "metadata": {},
   "source": [
    "# Recuperacion de los datos\n",
    "\n",
    "A partir de las variables latentes almacenadas en Z, cada una de sus filas contiene la representación latente de cada uno de los ejemplos (filas) en X_norm, podemos reconstruir los datos. Observa que hemos pasado de 1024 rasgos a n_componentes. \n",
    "\n",
    "<div class=\"alert alert-block alert-info\">\n",
    "    <b> Utiliza Z y los autovectores en Wd para reconstruir las caras originales. </b>\n",
    "</div>\n",
    "   \n",
    "Ten en cuenta que tendrás que deshacer la normalización de los datos una vez que hayas recuperado la dimensionalidad original."
   ]
  },
  {
   "cell_type": "code",
   "execution_count": null,
   "metadata": {},
   "outputs": [],
   "source": [
    "#Introduce aquí tu código para recuperar los datos\n",
    "\n",
    "X_norm_recovered =\n",
    "\n",
    "X_recovered = "
   ]
  },
  {
   "cell_type": "markdown",
   "metadata": {},
   "source": [
    "<div class=\"alert alert-block alert-info\">\n",
    "    <b> Muestra las 5 primeras caras de la base de datos original y su reconstrucción. Si has hecho los pasos correctamente, la reconstrucción debe ser similar al original</b>\n",
    "</div>"
   ]
  },
  {
   "cell_type": "code",
   "execution_count": null,
   "metadata": {},
   "outputs": [],
   "source": [
    "# Muestra 5 caras del dataset original y las mismas 5 caras reconstruidas\n",
    "\n",
    "\n",
    "\n",
    "\n"
   ]
  },
  {
   "cell_type": "markdown",
   "metadata": {},
   "source": [
    "<div class=\"alert alert-block alert-info\">\n",
    "    <b> ¿Qué ocurre si aumentamos o disminuímos el número n_componentes?.</b>\n",
    "</div>"
   ]
  },
  {
   "cell_type": "markdown",
   "metadata": {},
   "source": [
    "Incluye aquí tu respuesta\n",
    "\n",
    "...\n"
   ]
  },
  {
   "cell_type": "markdown",
   "metadata": {},
   "source": [
    "# Medición del error de reconstrucción\n",
    "\n",
    "Según el número de componentes que hayamos utilizado, habremos perdido más o menos información. Podemos comprobarlo haciendo uso del error cuadratico medio (MSE). \n",
    "\n",
    "<div class=\"alert alert-block alert-info\">\n",
    "\n",
    "Usando los datos originales de entrenamiento X y la reconstrucción que has obtenido, calcula el MSE que has cometido con cada una de las imágenes en X. "
   ]
  },
  {
   "cell_type": "code",
   "execution_count": null,
   "metadata": {},
   "outputs": [],
   "source": [
    "#Introduce aquí tu código para calcular el MSE. Si lo has hecho bien, obtendrás un valor para cada elemento (fila) \n",
    "# de X.\n",
    "\n",
    "mse=\n"
   ]
  },
  {
   "cell_type": "markdown",
   "metadata": {},
   "source": [
    "<div class=\"alert alert-block alert-info\">\n",
    "    <b>Haciendo uso del error cuadrático medio identifica y muestra la imagen original y la reconstruida en los siguientes casos: la imagen peor reconstruida, la imagen mejor reconstruida.</b>\n",
    "</div>\n",
    "\n",
    "\n"
   ]
  },
  {
   "cell_type": "code",
   "execution_count": null,
   "metadata": {},
   "outputs": [],
   "source": [
    "# Incluye el código para encontrar en el conjunto de entregamiento las imágenes peor y mejor reconstruidas usando el\n",
    "# error cuadrático medio y muéstrales.\n",
    "\n",
    "\n",
    "\n"
   ]
  },
  {
   "cell_type": "markdown",
   "metadata": {},
   "source": [
    "<div class=\"alert alert-block alert-info\">\n",
    "    <b> ¿Podrías explicar por qué son estas las caras que aparecen?</b>\n",
    "</div>\n",
    "\n",
    "Incluye en la siguiente celda tu respuesta.\n"
   ]
  },
  {
   "cell_type": "markdown",
   "metadata": {},
   "source": [
    "Tu respuesta:\n",
    "\n",
    "..."
   ]
  },
  {
   "cell_type": "markdown",
   "metadata": {},
   "source": [
    "# Aplicando el modelo a datos nuevos \n",
    "\n",
    "Los autovectores o autocaras que hemos encontrado haciendo uso de X deberian ser suficientemente buenos para representar otros datos del mismo tipo. Vamos a comprobarlo haciendo uso del pequeño conjunto de test que separamos al principio de la práctica.\n",
    "\n",
    "Utilizando los autovectores que ya has calculado, sigue los mismos pasos con las imagenes de test y comprueba que el funcionamiento es adecuado. \n",
    "\n",
    "<div class=\"alert alert-block alert-info\">\n",
    "    <b> Normaliza las instancias de test</b>\n",
    "</div>"
   ]
  },
  {
   "cell_type": "code",
   "execution_count": null,
   "metadata": {},
   "outputs": [],
   "source": [
    "# Normalización de los datos de test. (No olvides que no puedes utilizar información obtenida del propio \n",
    "# conjunto de test)\n",
    "\n",
    "test_norm ="
   ]
  },
  {
   "cell_type": "markdown",
   "metadata": {},
   "source": [
    "<div class=\"alert alert-block alert-info\">\n",
    "    <b> Obtén las variables latentes y reconstruye las caras del conjunto de test.</b>\n",
    "</div>"
   ]
  },
  {
   "cell_type": "code",
   "execution_count": null,
   "metadata": {},
   "outputs": [],
   "source": [
    "# Obtenición de las variables latentes y reconstrucción de las caras de test.\n",
    "\n",
    "Z_test=\n",
    "\n",
    "Test_norm_recovered =\n",
    "\n",
    "Test_recovered =\n"
   ]
  },
  {
   "cell_type": "markdown",
   "metadata": {},
   "source": [
    "<div class=\"alert alert-block alert-info\">\n",
    "    <b> Muestra las cinco primeras caras del conjunto de test y sus reconstrucciones.</b>\n",
    "</div>"
   ]
  },
  {
   "cell_type": "code",
   "execution_count": null,
   "metadata": {},
   "outputs": [],
   "source": [
    "# Muestra 5 caras del conjunto de test y sus respectivas reconstrucciones\n",
    "\n",
    "\n",
    "\n"
   ]
  },
  {
   "cell_type": "markdown",
   "metadata": {},
   "source": [
    "# Detección de anomalías\n",
    "\n",
    "En el conjunto de test hay una imagen anómala que no se corresponde con el resto del dataset. ¿Como la identificarias automaticamente utilizando lo que has aprendido?"
   ]
  },
  {
   "cell_type": "markdown",
   "metadata": {},
   "source": [
    "<div class=\"alert alert-block alert-info\">\n",
    "    <b> Identifica y muestra la anomalía oculta en el conjunto de test. Muestra también la reconstrucción que hemos obtenido de esa anomalía.</b>\n",
    "</div>"
   ]
  },
  {
   "cell_type": "code",
   "execution_count": null,
   "metadata": {},
   "outputs": [],
   "source": [
    "# Identifica la anomalía en el conjunto de test.\n",
    "\n"
   ]
  },
  {
   "cell_type": "markdown",
   "metadata": {},
   "source": [
    "<div class=\"alert alert-block alert-info\">\n",
    "    <b> ¿Qué es lo que nos permite identificar la imagen como anomalía? ¿Por qué se reconstruye de esa manera?</b>\n",
    "</div>"
   ]
  },
  {
   "cell_type": "markdown",
   "metadata": {},
   "source": [
    "Tu respuesta:\n",
    "\n",
    "..."
   ]
  }
 ],
 "metadata": {
  "kernelspec": {
   "display_name": "Python 3",
   "language": "python",
   "name": "python3"
  },
  "language_info": {
   "codemirror_mode": {
    "name": "ipython",
    "version": 3
   },
   "file_extension": ".py",
   "mimetype": "text/x-python",
   "name": "python",
   "nbconvert_exporter": "python",
   "pygments_lexer": "ipython3",
   "version": "3.7.0"
  }
 },
 "nbformat": 4,
 "nbformat_minor": 2
}
